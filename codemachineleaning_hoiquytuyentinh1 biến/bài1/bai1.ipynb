{
 "cells": [
  {
   "cell_type": "code",
   "execution_count": null,
   "id": "5180fb08",
   "metadata": {},
   "outputs": [],
   "source": [
    "import pandas as pd  # thư  viện đọc file exel\n",
    "import numpy as np # thư viện hỗ trợ toán học\n",
    "import matplotlib.pyplot as plt # thư viện vẽ đồ thị\n",
    "from sklearn import linear_model\n",
    "data_frame = pd.read_csv(\"giadat.csv\")\n",
    "# in danh sách tuef exel\n",
    "print(data_frame)\n",
    "# this input (feature)\n",
    "data_frame [\"area\"] # in ra area trong ypyter\n",
    "# this output(lable)\n",
    "data_frame [\"price\"] # in ra price trong ypyter\n",
    "# ve đồ thị cac diem\n",
    "plt.scatter(data_frame[\"area\"], data_frame[\"price\"],color = \"black\",marker = \"+\")\n",
    "# tao doi tuong bang model neu o tren \n",
    "linear_regresstion = linear_model.LinearRegression()\n",
    "# huan luyen cho model , bang hàm fit\n",
    "linear_regresstion.fit(data_frame[[\"area\"]], data_frame[\"price\"])\\\n",
    "# du doan 3700\n",
    "n = linear_regresstion.predict([[3700]])\n",
    "print(\"với area 3700 tương ứng với price là : \",n)\n",
    "# y = m*X + b\n",
    "# y = coef * X + intercept_ , m = coef -> độ dốc , b = inrtercept_ giao điểm của trục tung x = 0 , đứng\n",
    "m = linear_regresstion.coef_\n",
    "print('độ dốc m =  ' ,m)\n",
    "b = linear_regresstion.intercept_\n",
    "print( \"b = \" ,b)\n",
    "# vd : \n",
    "print(\" nhập area bạn mong muốn , chúng tôi sẽ đề xuất giá cho bạn !\")\n",
    "x = int(input())\n",
    "print('bạn đã nhập area : ' , x)\n",
    "y_predict = m * x + b \n",
    "print('kết quả price của ',x ,\"là : \",y_predict)\n",
    "print('xin cảm ơn!')\n",
    "# tên đồ thị\n",
    "plt.xlabel(\"house's area\" , fontsize = 20)\n",
    "plt.ylabel(\"price\" , fontsize = 20 )\n",
    "# gọi lại đồ thị khi nãy\n",
    "plt.scatter(data_frame[\"area\"], data_frame[\"price\"],color = \"blue\",marker = \"+\")\n",
    "# vẽ đè lên đồ thị phía trên\n",
    "plt.plot(data_frame[\"area\"], m * data_frame[\"area\"]+b , color = \"red\")\n"
   ]
  },
  {
   "cell_type": "code",
   "execution_count": null,
   "id": "5633426a",
   "metadata": {},
   "outputs": [],
   "source": []
  },
  {
   "cell_type": "code",
   "execution_count": null,
   "id": "2c4d44e2",
   "metadata": {},
   "outputs": [],
   "source": []
  },
  {
   "cell_type": "code",
   "execution_count": null,
   "id": "81b02bc8",
   "metadata": {},
   "outputs": [],
   "source": [
    "\n"
   ]
  },
  {
   "cell_type": "code",
   "execution_count": null,
   "id": "c6ed7c39",
   "metadata": {},
   "outputs": [],
   "source": []
  },
  {
   "cell_type": "code",
   "execution_count": null,
   "id": "e6fca0ac",
   "metadata": {},
   "outputs": [],
   "source": []
  },
  {
   "cell_type": "code",
   "execution_count": null,
   "id": "0b908880",
   "metadata": {},
   "outputs": [],
   "source": [
    "\n"
   ]
  },
  {
   "cell_type": "code",
   "execution_count": null,
   "id": "013d7768",
   "metadata": {},
   "outputs": [],
   "source": []
  },
  {
   "cell_type": "code",
   "execution_count": null,
   "id": "033f20f1",
   "metadata": {},
   "outputs": [],
   "source": []
  }
 ],
 "metadata": {
  "kernelspec": {
   "display_name": "Python 3 (ipykernel)",
   "language": "python",
   "name": "python3"
  },
  "language_info": {
   "codemirror_mode": {
    "name": "ipython",
    "version": 3
   },
   "file_extension": ".py",
   "mimetype": "text/x-python",
   "name": "python",
   "nbconvert_exporter": "python",
   "pygments_lexer": "ipython3",
   "version": "3.9.7"
  }
 },
 "nbformat": 4,
 "nbformat_minor": 5
}
