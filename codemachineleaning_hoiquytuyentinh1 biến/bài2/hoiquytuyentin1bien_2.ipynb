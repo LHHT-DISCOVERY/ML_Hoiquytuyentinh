{
 "cells": [
  {
   "cell_type": "markdown",
   "id": "699b191c",
   "metadata": {},
   "source": [
    "# import cac thu vien"
   ]
  },
  {
   "cell_type": "code",
   "execution_count": 1,
   "id": "711802ee",
   "metadata": {},
   "outputs": [],
   "source": [
    "import pandas as pd\n",
    "import numpy as np\n",
    "import matplotlib.pyplot as plt\n",
    "from sklearn import linear_model"
   ]
  },
  {
   "cell_type": "code",
   "execution_count": 2,
   "id": "804f1c8a",
   "metadata": {},
   "outputs": [
    {
     "data": {
      "text/html": [
       "<div>\n",
       "<style scoped>\n",
       "    .dataframe tbody tr th:only-of-type {\n",
       "        vertical-align: middle;\n",
       "    }\n",
       "\n",
       "    .dataframe tbody tr th {\n",
       "        vertical-align: top;\n",
       "    }\n",
       "\n",
       "    .dataframe thead th {\n",
       "        text-align: right;\n",
       "    }\n",
       "</style>\n",
       "<table border=\"1\" class=\"dataframe\">\n",
       "  <thead>\n",
       "    <tr style=\"text-align: right;\">\n",
       "      <th></th>\n",
       "      <th>cricket chirps Minute</th>\n",
       "      <th>Temperature</th>\n",
       "    </tr>\n",
       "  </thead>\n",
       "  <tbody>\n",
       "    <tr>\n",
       "      <th>0</th>\n",
       "      <td>7</td>\n",
       "      <td>5</td>\n",
       "    </tr>\n",
       "    <tr>\n",
       "      <th>1</th>\n",
       "      <td>19</td>\n",
       "      <td>3</td>\n",
       "    </tr>\n",
       "    <tr>\n",
       "      <th>2</th>\n",
       "      <td>32</td>\n",
       "      <td>5</td>\n",
       "    </tr>\n",
       "    <tr>\n",
       "      <th>3</th>\n",
       "      <td>42</td>\n",
       "      <td>7</td>\n",
       "    </tr>\n",
       "    <tr>\n",
       "      <th>4</th>\n",
       "      <td>50</td>\n",
       "      <td>11</td>\n",
       "    </tr>\n",
       "    <tr>\n",
       "      <th>5</th>\n",
       "      <td>60</td>\n",
       "      <td>13</td>\n",
       "    </tr>\n",
       "    <tr>\n",
       "      <th>6</th>\n",
       "      <td>77</td>\n",
       "      <td>14</td>\n",
       "    </tr>\n",
       "    <tr>\n",
       "      <th>7</th>\n",
       "      <td>79</td>\n",
       "      <td>17</td>\n",
       "    </tr>\n",
       "    <tr>\n",
       "      <th>8</th>\n",
       "      <td>85</td>\n",
       "      <td>19</td>\n",
       "    </tr>\n",
       "    <tr>\n",
       "      <th>9</th>\n",
       "      <td>100</td>\n",
       "      <td>21</td>\n",
       "    </tr>\n",
       "    <tr>\n",
       "      <th>10</th>\n",
       "      <td>103</td>\n",
       "      <td>22</td>\n",
       "    </tr>\n",
       "    <tr>\n",
       "      <th>11</th>\n",
       "      <td>101</td>\n",
       "      <td>24</td>\n",
       "    </tr>\n",
       "    <tr>\n",
       "      <th>12</th>\n",
       "      <td>120</td>\n",
       "      <td>25</td>\n",
       "    </tr>\n",
       "    <tr>\n",
       "      <th>13</th>\n",
       "      <td>128</td>\n",
       "      <td>30</td>\n",
       "    </tr>\n",
       "    <tr>\n",
       "      <th>14</th>\n",
       "      <td>145</td>\n",
       "      <td>28</td>\n",
       "    </tr>\n",
       "    <tr>\n",
       "      <th>15</th>\n",
       "      <td>150</td>\n",
       "      <td>29</td>\n",
       "    </tr>\n",
       "    <tr>\n",
       "      <th>16</th>\n",
       "      <td>152</td>\n",
       "      <td>30</td>\n",
       "    </tr>\n",
       "    <tr>\n",
       "      <th>17</th>\n",
       "      <td>156</td>\n",
       "      <td>32</td>\n",
       "    </tr>\n",
       "    <tr>\n",
       "      <th>18</th>\n",
       "      <td>175</td>\n",
       "      <td>33</td>\n",
       "    </tr>\n",
       "  </tbody>\n",
       "</table>\n",
       "</div>"
      ],
      "text/plain": [
       "    cricket chirps Minute  Temperature\n",
       "0                       7            5\n",
       "1                      19            3\n",
       "2                      32            5\n",
       "3                      42            7\n",
       "4                      50           11\n",
       "5                      60           13\n",
       "6                      77           14\n",
       "7                      79           17\n",
       "8                      85           19\n",
       "9                     100           21\n",
       "10                    103           22\n",
       "11                    101           24\n",
       "12                    120           25\n",
       "13                    128           30\n",
       "14                    145           28\n",
       "15                    150           29\n",
       "16                    152           30\n",
       "17                    156           32\n",
       "18                    175           33"
      ]
     },
     "execution_count": 2,
     "metadata": {},
     "output_type": "execute_result"
    }
   ],
   "source": [
    "data_frame2 = pd.read_csv(\"du doan do am dat.csv\") # doc danh sach exel\n",
    "data_frame2 # ham goi in ra exxel \n",
    "# data_frame2.columns"
   ]
  },
  {
   "cell_type": "code",
   "execution_count": 3,
   "id": "c308e707",
   "metadata": {},
   "outputs": [
    {
     "data": {
      "text/plain": [
       "0       7\n",
       "1      19\n",
       "2      32\n",
       "3      42\n",
       "4      50\n",
       "5      60\n",
       "6      77\n",
       "7      79\n",
       "8      85\n",
       "9     100\n",
       "10    103\n",
       "11    101\n",
       "12    120\n",
       "13    128\n",
       "14    145\n",
       "15    150\n",
       "16    152\n",
       "17    156\n",
       "18    175\n",
       "Name: cricket chirps Minute, dtype: int64"
      ]
     },
     "execution_count": 3,
     "metadata": {},
     "output_type": "execute_result"
    }
   ],
   "source": [
    "data_frame2[\"cricket chirps Minute\"] # in ra danh sach cricket ..."
   ]
  },
  {
   "cell_type": "code",
   "execution_count": 4,
   "id": "0778c570",
   "metadata": {},
   "outputs": [
    {
     "data": {
      "text/plain": [
       "0      5\n",
       "1      3\n",
       "2      5\n",
       "3      7\n",
       "4     11\n",
       "5     13\n",
       "6     14\n",
       "7     17\n",
       "8     19\n",
       "9     21\n",
       "10    22\n",
       "11    24\n",
       "12    25\n",
       "13    30\n",
       "14    28\n",
       "15    29\n",
       "16    30\n",
       "17    32\n",
       "18    33\n",
       "Name: Temperature, dtype: int64"
      ]
     },
     "execution_count": 4,
     "metadata": {},
     "output_type": "execute_result"
    }
   ],
   "source": [
    "data_frame2[\"Temperature\"]"
   ]
  },
  {
   "cell_type": "markdown",
   "id": "a4d13f26",
   "metadata": {},
   "source": [
    "# ve do thi"
   ]
  },
  {
   "cell_type": "code",
   "execution_count": 5,
   "id": "d2adf264",
   "metadata": {},
   "outputs": [
    {
     "data": {
      "text/plain": [
       "<matplotlib.collections.PathCollection at 0x2d1fffade20>"
      ]
     },
     "execution_count": 5,
     "metadata": {},
     "output_type": "execute_result"
    },
    {
     "data": {
      "image/png": "[encoded data removed]",
      "text/plain": [
       "<Figure size 432x288 with 1 Axes>"
      ]
     },
     "metadata": {
      "needs_background": "light"
     },
     "output_type": "display_data"
    }
   ],
   "source": [
    "\n",
    "plt.ylabel(\"nhiet do \" , fontsize = 20) # x cot ben trai , y cot ben phai\n",
    "plt.xlabel(\"tieng de keu\" , fontsize = 20)\n",
    "plt.scatter(data_frame2[\"cricket chirps Minute\"] , data_frame2[\"Temperature\"] , color =\"green\" , marker = \"+\")"
   ]
  },
  {
   "cell_type": "markdown",
   "id": "2ac8ecbd",
   "metadata": {},
   "source": [
    "# tao doi tuong bang model neu o tren"
   ]
  },
  {
   "cell_type": "code",
   "execution_count": 6,
   "id": "6a7ff105",
   "metadata": {},
   "outputs": [
    {
     "data": {
      "text/plain": [
       "LinearRegression()"
      ]
     },
     "execution_count": 6,
     "metadata": {},
     "output_type": "execute_result"
    }
   ],
   "source": [
    "linear_regression = linear_model.LinearRegression()\n",
    "linear_regression"
   ]
  },
  {
   "cell_type": "markdown",
   "id": "31e0e0e6",
   "metadata": {},
   "source": [
    "# huan luyen cho cac model bang ham fit"
   ]
  },
  {
   "cell_type": "code",
   "execution_count": 7,
   "id": "c77b71ce",
   "metadata": {},
   "outputs": [
    {
     "data": {
      "text/plain": [
       "LinearRegression()"
      ]
     },
     "execution_count": 7,
     "metadata": {},
     "output_type": "execute_result"
    }
   ],
   "source": [
    "linear_regression.fit(data_frame2[[\"cricket chirps Minute\"]], data_frame2[\"Temperature\"])"
   ]
  },
  {
   "cell_type": "markdown",
   "id": "7a5b868d",
   "metadata": {},
   "source": [
    "# du doan"
   ]
  },
  {
   "cell_type": "code",
   "execution_count": 8,
   "id": "1aafe88d",
   "metadata": {},
   "outputs": [
    {
     "data": {
      "text/plain": [
       "array([14.72802805])"
      ]
     },
     "execution_count": 8,
     "metadata": {},
     "output_type": "execute_result"
    }
   ],
   "source": [
    "n = linear_regression.predict([[70]])\n",
    "n"
   ]
  },
  {
   "cell_type": "markdown",
   "id": "c11c05ca",
   "metadata": {},
   "source": [
    "# do doc"
   ]
  },
  {
   "cell_type": "code",
   "execution_count": 9,
   "id": "abec404f",
   "metadata": {},
   "outputs": [
    {
     "data": {
      "text/plain": [
       "array([0.19549328])"
      ]
     },
     "execution_count": 9,
     "metadata": {},
     "output_type": "execute_result"
    }
   ],
   "source": [
    "m = linear_regression.coef_\n",
    "m"
   ]
  },
  {
   "cell_type": "code",
   "execution_count": 10,
   "id": "299b1ded",
   "metadata": {},
   "outputs": [
    {
     "data": {
      "text/plain": [
       "1.04349878529041"
      ]
     },
     "execution_count": 10,
     "metadata": {},
     "output_type": "execute_result"
    }
   ],
   "source": [
    "b = linear_regression.intercept_\n",
    "b"
   ]
  },
  {
   "cell_type": "code",
   "execution_count": 11,
   "id": "9ce40d4f",
   "metadata": {},
   "outputs": [
    {
     "data": {
      "text/plain": [
       "array([14.72802805])"
      ]
     },
     "execution_count": 11,
     "metadata": {},
     "output_type": "execute_result"
    }
   ],
   "source": [
    "y_precdict = m*70 + b\n",
    "y_precdict"
   ]
  },
  {
   "cell_type": "code",
   "execution_count": 12,
   "id": "518b71f1",
   "metadata": {},
   "outputs": [
    {
     "data": {
      "text/plain": [
       "[<matplotlib.lines.Line2D at 0x2d180208d90>]"
      ]
     },
     "execution_count": 12,
     "metadata": {},
     "output_type": "execute_result"
    },
    {
     "data": {
      "image/png": "[encoded data removed]",
      "text/plain": [
       "<Figure size 432x288 with 1 Axes>"
      ]
     },
     "metadata": {
      "needs_background": "light"
     },
     "output_type": "display_data"
    }
   ],
   "source": [
    "\n",
    "plt.scatter(data_frame2[\"cricket chirps Minute\"] , data_frame2[\"Temperature\"] , color =\"green\" , marker = \"+\")\n",
    "plt.plot(data_frame2[\"cricket chirps Minute\"] ,m*data_frame2[\"cricket chirps Minute\"], color = \"red\")"
   ]
  },
  {
   "cell_type": "code",
   "execution_count": null,
   "id": "92f169f0",
   "metadata": {},
   "outputs": [],
   "source": []
  },
  {
   "cell_type": "code",
   "execution_count": null,
   "id": "c6ccfabf",
   "metadata": {},
   "outputs": [],
   "source": []
  }
 ],
 "metadata": {
  "kernelspec": {
   "display_name": "Python 3 (ipykernel)",
   "language": "python",
   "name": "python3"
  },
  "language_info": {
   "codemirror_mode": {
    "name": "ipython",
    "version": 3
   },
   "file_extension": ".py",
   "mimetype": "text/x-python",
   "name": "python",
   "nbconvert_exporter": "python",
   "pygments_lexer": "ipython3",
   "version": "3.9.7"
  }
 },
 "nbformat": 4,
 "nbformat_minor": 5
}
